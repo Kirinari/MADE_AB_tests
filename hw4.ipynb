{
 "cells": [
  {
   "cell_type": "code",
   "execution_count": 36,
   "id": "1e68c527-4432-4629-9c03-0a4d1f9896da",
   "metadata": {},
   "outputs": [],
   "source": [
    "import numpy as np\n",
    "import pandas as pd\n",
    "import scipy.stats as sps\n",
    "import datetime\n",
    "from datetime import timedelta\n",
    "\n",
    "import seaborn as sns\n",
    "from matplotlib import pyplot as plt\n",
    "\n",
    "import plotly.graph_objs as go\n",
    "sns.set_style(\"darkgrid\")"
   ]
  },
  {
   "cell_type": "code",
   "execution_count": 14,
   "id": "e6befe00",
   "metadata": {},
   "outputs": [],
   "source": [
    "alpha = 0.05\n",
    "beta = 0.2"
   ]
  },
  {
   "cell_type": "code",
   "execution_count": 32,
   "id": "8bfad9d5",
   "metadata": {},
   "outputs": [],
   "source": [
    "def duration(k, delta_effect, sigma_1, sigma_2, alpha=0.05, beta=0.2):\n",
    "    z = sps.norm.ppf(1 - alpha/2) + sps.norm.ppf(1-beta)\n",
    "    n = (k + 1) * z ** 2 * (sigma_1 ** 2 + sigma_2 ** 2 / k) / (delta_effect ** 2)\n",
    "    return n"
   ]
  },
  {
   "cell_type": "code",
   "execution_count": 7,
   "id": "7835e729",
   "metadata": {},
   "outputs": [],
   "source": [
    "df = pd.read_csv(\"ab_made_4.gzip\", compression='gzip')\n",
    "\n",
    "df['date'] = pd.to_datetime(df['date'], format='%Y-%m-%d')\n",
    "df['timestamp'] = pd.to_datetime(df['timestamp'], unit='s') + datetime.timedelta(hours=3)\n",
    "\n",
    "\n",
    "group_nan = df[df['group'].isna()]\n",
    "group_a = df[df['group'] == 'A']\n",
    "group_b = df[df['group'] == 'B']\n"
   ]
  },
  {
   "cell_type": "code",
   "execution_count": 8,
   "id": "c0732c96",
   "metadata": {},
   "outputs": [
    {
     "name": "stdout",
     "output_type": "stream",
     "text": [
      "<class 'pandas.core.frame.DataFrame'>\n",
      "Index: 25759 entries, 0 to 25758\n",
      "Data columns (total 8 columns):\n",
      " #   Column       Non-Null Count  Dtype         \n",
      "---  ------       --------------  -----         \n",
      " 0   timestamp    25759 non-null  datetime64[ns]\n",
      " 1   id_user      25759 non-null  object        \n",
      " 2   sum_payment  25759 non-null  int64         \n",
      " 3   group        0 non-null      object        \n",
      " 4   city         25759 non-null  object        \n",
      " 5   id_product   25758 non-null  float64       \n",
      " 6   is_pay       25759 non-null  int64         \n",
      " 7   date         25759 non-null  datetime64[ns]\n",
      "dtypes: datetime64[ns](2), float64(1), int64(2), object(3)\n",
      "memory usage: 1.8+ MB\n"
     ]
    }
   ],
   "source": [
    "group_nan.info()"
   ]
  },
  {
   "cell_type": "code",
   "execution_count": 9,
   "id": "36755216",
   "metadata": {},
   "outputs": [
    {
     "data": {
      "text/html": [
       "<div>\n",
       "<style scoped>\n",
       "    .dataframe tbody tr th:only-of-type {\n",
       "        vertical-align: middle;\n",
       "    }\n",
       "\n",
       "    .dataframe tbody tr th {\n",
       "        vertical-align: top;\n",
       "    }\n",
       "\n",
       "    .dataframe thead th {\n",
       "        text-align: right;\n",
       "    }\n",
       "</style>\n",
       "<table border=\"1\" class=\"dataframe\">\n",
       "  <thead>\n",
       "    <tr style=\"text-align: right;\">\n",
       "      <th></th>\n",
       "      <th>timestamp</th>\n",
       "      <th>sum_payment</th>\n",
       "      <th>id_product</th>\n",
       "      <th>is_pay</th>\n",
       "      <th>date</th>\n",
       "    </tr>\n",
       "  </thead>\n",
       "  <tbody>\n",
       "    <tr>\n",
       "      <th>count</th>\n",
       "      <td>25759</td>\n",
       "      <td>25759.000000</td>\n",
       "      <td>25758.000000</td>\n",
       "      <td>25759.000000</td>\n",
       "      <td>25759</td>\n",
       "    </tr>\n",
       "    <tr>\n",
       "      <th>mean</th>\n",
       "      <td>2023-04-23 11:03:16.919290624</td>\n",
       "      <td>5.479638</td>\n",
       "      <td>10.506406</td>\n",
       "      <td>0.257852</td>\n",
       "      <td>2023-04-22 22:34:34.832097536</td>\n",
       "    </tr>\n",
       "    <tr>\n",
       "      <th>min</th>\n",
       "      <td>2023-04-01 03:40:17</td>\n",
       "      <td>0.000000</td>\n",
       "      <td>0.000000</td>\n",
       "      <td>0.000000</td>\n",
       "      <td>2023-04-01 00:00:00</td>\n",
       "    </tr>\n",
       "    <tr>\n",
       "      <th>25%</th>\n",
       "      <td>2023-04-19 09:52:50.500000</td>\n",
       "      <td>0.000000</td>\n",
       "      <td>5.000000</td>\n",
       "      <td>0.000000</td>\n",
       "      <td>2023-04-19 00:00:00</td>\n",
       "    </tr>\n",
       "    <tr>\n",
       "      <th>50%</th>\n",
       "      <td>2023-04-25 09:42:41</td>\n",
       "      <td>0.000000</td>\n",
       "      <td>11.000000</td>\n",
       "      <td>0.000000</td>\n",
       "      <td>2023-04-25 00:00:00</td>\n",
       "    </tr>\n",
       "    <tr>\n",
       "      <th>75%</th>\n",
       "      <td>2023-04-28 23:26:57</td>\n",
       "      <td>11.000000</td>\n",
       "      <td>16.000000</td>\n",
       "      <td>1.000000</td>\n",
       "      <td>2023-04-28 00:00:00</td>\n",
       "    </tr>\n",
       "    <tr>\n",
       "      <th>max</th>\n",
       "      <td>2023-04-30 23:59:46</td>\n",
       "      <td>1000.000000</td>\n",
       "      <td>21.000000</td>\n",
       "      <td>1.000000</td>\n",
       "      <td>2023-04-30 00:00:00</td>\n",
       "    </tr>\n",
       "    <tr>\n",
       "      <th>std</th>\n",
       "      <td>NaN</td>\n",
       "      <td>12.142196</td>\n",
       "      <td>6.328429</td>\n",
       "      <td>0.437460</td>\n",
       "      <td>NaN</td>\n",
       "    </tr>\n",
       "  </tbody>\n",
       "</table>\n",
       "</div>"
      ],
      "text/plain": [
       "                           timestamp   sum_payment    id_product   \n",
       "count                          25759  25759.000000  25758.000000  \\\n",
       "mean   2023-04-23 11:03:16.919290624      5.479638     10.506406   \n",
       "min              2023-04-01 03:40:17      0.000000      0.000000   \n",
       "25%       2023-04-19 09:52:50.500000      0.000000      5.000000   \n",
       "50%              2023-04-25 09:42:41      0.000000     11.000000   \n",
       "75%              2023-04-28 23:26:57     11.000000     16.000000   \n",
       "max              2023-04-30 23:59:46   1000.000000     21.000000   \n",
       "std                              NaN     12.142196      6.328429   \n",
       "\n",
       "             is_pay                           date  \n",
       "count  25759.000000                          25759  \n",
       "mean       0.257852  2023-04-22 22:34:34.832097536  \n",
       "min        0.000000            2023-04-01 00:00:00  \n",
       "25%        0.000000            2023-04-19 00:00:00  \n",
       "50%        0.000000            2023-04-25 00:00:00  \n",
       "75%        1.000000            2023-04-28 00:00:00  \n",
       "max        1.000000            2023-04-30 00:00:00  \n",
       "std        0.437460                            NaN  "
      ]
     },
     "execution_count": 9,
     "metadata": {},
     "output_type": "execute_result"
    }
   ],
   "source": [
    "group_nan.describe()"
   ]
  },
  {
   "cell_type": "code",
   "execution_count": 10,
   "id": "d8c7aa81",
   "metadata": {},
   "outputs": [
    {
     "name": "stdout",
     "output_type": "stream",
     "text": [
      "<class 'pandas.core.frame.DataFrame'>\n",
      "Index: 15389 entries, 25759 to 56402\n",
      "Data columns (total 8 columns):\n",
      " #   Column       Non-Null Count  Dtype         \n",
      "---  ------       --------------  -----         \n",
      " 0   timestamp    15389 non-null  datetime64[ns]\n",
      " 1   id_user      15389 non-null  object        \n",
      " 2   sum_payment  15389 non-null  int64         \n",
      " 3   group        15389 non-null  object        \n",
      " 4   city         15389 non-null  object        \n",
      " 5   id_product   15387 non-null  float64       \n",
      " 6   is_pay       15389 non-null  int64         \n",
      " 7   date         15389 non-null  datetime64[ns]\n",
      "dtypes: datetime64[ns](2), float64(1), int64(2), object(3)\n",
      "memory usage: 1.1+ MB\n"
     ]
    }
   ],
   "source": [
    "group_a.info()"
   ]
  },
  {
   "cell_type": "code",
   "execution_count": 11,
   "id": "ec757a7c",
   "metadata": {},
   "outputs": [
    {
     "data": {
      "text/html": [
       "<div>\n",
       "<style scoped>\n",
       "    .dataframe tbody tr th:only-of-type {\n",
       "        vertical-align: middle;\n",
       "    }\n",
       "\n",
       "    .dataframe tbody tr th {\n",
       "        vertical-align: top;\n",
       "    }\n",
       "\n",
       "    .dataframe thead th {\n",
       "        text-align: right;\n",
       "    }\n",
       "</style>\n",
       "<table border=\"1\" class=\"dataframe\">\n",
       "  <thead>\n",
       "    <tr style=\"text-align: right;\">\n",
       "      <th></th>\n",
       "      <th>timestamp</th>\n",
       "      <th>sum_payment</th>\n",
       "      <th>id_product</th>\n",
       "      <th>is_pay</th>\n",
       "      <th>date</th>\n",
       "    </tr>\n",
       "  </thead>\n",
       "  <tbody>\n",
       "    <tr>\n",
       "      <th>count</th>\n",
       "      <td>15389</td>\n",
       "      <td>15389.000000</td>\n",
       "      <td>15387.000000</td>\n",
       "      <td>15389.000000</td>\n",
       "      <td>15389</td>\n",
       "    </tr>\n",
       "    <tr>\n",
       "      <th>mean</th>\n",
       "      <td>2023-05-24 07:22:27.248878848</td>\n",
       "      <td>6.132562</td>\n",
       "      <td>10.456229</td>\n",
       "      <td>0.283904</td>\n",
       "      <td>2023-05-23 18:50:21.950744064</td>\n",
       "    </tr>\n",
       "    <tr>\n",
       "      <th>min</th>\n",
       "      <td>2023-05-01 08:48:05</td>\n",
       "      <td>0.000000</td>\n",
       "      <td>0.000000</td>\n",
       "      <td>0.000000</td>\n",
       "      <td>2023-05-01 00:00:00</td>\n",
       "    </tr>\n",
       "    <tr>\n",
       "      <th>25%</th>\n",
       "      <td>2023-05-20 06:28:23</td>\n",
       "      <td>0.000000</td>\n",
       "      <td>5.000000</td>\n",
       "      <td>0.000000</td>\n",
       "      <td>2023-05-20 00:00:00</td>\n",
       "    </tr>\n",
       "    <tr>\n",
       "      <th>50%</th>\n",
       "      <td>2023-05-26 06:44:13</td>\n",
       "      <td>0.000000</td>\n",
       "      <td>10.000000</td>\n",
       "      <td>0.000000</td>\n",
       "      <td>2023-05-26 00:00:00</td>\n",
       "    </tr>\n",
       "    <tr>\n",
       "      <th>75%</th>\n",
       "      <td>2023-05-29 23:43:04</td>\n",
       "      <td>12.000000</td>\n",
       "      <td>16.000000</td>\n",
       "      <td>1.000000</td>\n",
       "      <td>2023-05-29 00:00:00</td>\n",
       "    </tr>\n",
       "    <tr>\n",
       "      <th>max</th>\n",
       "      <td>2023-05-31 23:59:57</td>\n",
       "      <td>1000.000000</td>\n",
       "      <td>21.000000</td>\n",
       "      <td>1.000000</td>\n",
       "      <td>2023-05-31 00:00:00</td>\n",
       "    </tr>\n",
       "    <tr>\n",
       "      <th>std</th>\n",
       "      <td>NaN</td>\n",
       "      <td>15.703604</td>\n",
       "      <td>6.335640</td>\n",
       "      <td>0.450905</td>\n",
       "      <td>NaN</td>\n",
       "    </tr>\n",
       "  </tbody>\n",
       "</table>\n",
       "</div>"
      ],
      "text/plain": [
       "                           timestamp   sum_payment    id_product   \n",
       "count                          15389  15389.000000  15387.000000  \\\n",
       "mean   2023-05-24 07:22:27.248878848      6.132562     10.456229   \n",
       "min              2023-05-01 08:48:05      0.000000      0.000000   \n",
       "25%              2023-05-20 06:28:23      0.000000      5.000000   \n",
       "50%              2023-05-26 06:44:13      0.000000     10.000000   \n",
       "75%              2023-05-29 23:43:04     12.000000     16.000000   \n",
       "max              2023-05-31 23:59:57   1000.000000     21.000000   \n",
       "std                              NaN     15.703604      6.335640   \n",
       "\n",
       "             is_pay                           date  \n",
       "count  15389.000000                          15389  \n",
       "mean       0.283904  2023-05-23 18:50:21.950744064  \n",
       "min        0.000000            2023-05-01 00:00:00  \n",
       "25%        0.000000            2023-05-20 00:00:00  \n",
       "50%        0.000000            2023-05-26 00:00:00  \n",
       "75%        1.000000            2023-05-29 00:00:00  \n",
       "max        1.000000            2023-05-31 00:00:00  \n",
       "std        0.450905                            NaN  "
      ]
     },
     "execution_count": 11,
     "metadata": {},
     "output_type": "execute_result"
    }
   ],
   "source": [
    "group_a.describe()"
   ]
  },
  {
   "cell_type": "code",
   "execution_count": 12,
   "id": "f38b3972",
   "metadata": {},
   "outputs": [
    {
     "name": "stdout",
     "output_type": "stream",
     "text": [
      "<class 'pandas.core.frame.DataFrame'>\n",
      "Index: 15257 entries, 25760 to 56404\n",
      "Data columns (total 8 columns):\n",
      " #   Column       Non-Null Count  Dtype         \n",
      "---  ------       --------------  -----         \n",
      " 0   timestamp    15257 non-null  datetime64[ns]\n",
      " 1   id_user      15257 non-null  object        \n",
      " 2   sum_payment  15257 non-null  int64         \n",
      " 3   group        15257 non-null  object        \n",
      " 4   city         15257 non-null  object        \n",
      " 5   id_product   15257 non-null  float64       \n",
      " 6   is_pay       15257 non-null  int64         \n",
      " 7   date         15257 non-null  datetime64[ns]\n",
      "dtypes: datetime64[ns](2), float64(1), int64(2), object(3)\n",
      "memory usage: 1.0+ MB\n"
     ]
    }
   ],
   "source": [
    "group_b.info()"
   ]
  },
  {
   "cell_type": "code",
   "execution_count": 13,
   "id": "92dcec26",
   "metadata": {},
   "outputs": [
    {
     "data": {
      "text/html": [
       "<div>\n",
       "<style scoped>\n",
       "    .dataframe tbody tr th:only-of-type {\n",
       "        vertical-align: middle;\n",
       "    }\n",
       "\n",
       "    .dataframe tbody tr th {\n",
       "        vertical-align: top;\n",
       "    }\n",
       "\n",
       "    .dataframe thead th {\n",
       "        text-align: right;\n",
       "    }\n",
       "</style>\n",
       "<table border=\"1\" class=\"dataframe\">\n",
       "  <thead>\n",
       "    <tr style=\"text-align: right;\">\n",
       "      <th></th>\n",
       "      <th>timestamp</th>\n",
       "      <th>sum_payment</th>\n",
       "      <th>id_product</th>\n",
       "      <th>is_pay</th>\n",
       "      <th>date</th>\n",
       "    </tr>\n",
       "  </thead>\n",
       "  <tbody>\n",
       "    <tr>\n",
       "      <th>count</th>\n",
       "      <td>15257</td>\n",
       "      <td>15257.000000</td>\n",
       "      <td>15257.000000</td>\n",
       "      <td>15257.000000</td>\n",
       "      <td>15257</td>\n",
       "    </tr>\n",
       "    <tr>\n",
       "      <th>mean</th>\n",
       "      <td>2023-05-24 06:47:00.704922368</td>\n",
       "      <td>6.578554</td>\n",
       "      <td>10.450678</td>\n",
       "      <td>0.312840</td>\n",
       "      <td>2023-05-23 18:25:13.429901056</td>\n",
       "    </tr>\n",
       "    <tr>\n",
       "      <th>min</th>\n",
       "      <td>2023-05-01 01:43:46</td>\n",
       "      <td>0.000000</td>\n",
       "      <td>0.000000</td>\n",
       "      <td>0.000000</td>\n",
       "      <td>2023-05-01 00:00:00</td>\n",
       "    </tr>\n",
       "    <tr>\n",
       "      <th>25%</th>\n",
       "      <td>2023-05-20 04:59:28</td>\n",
       "      <td>0.000000</td>\n",
       "      <td>5.000000</td>\n",
       "      <td>0.000000</td>\n",
       "      <td>2023-05-20 00:00:00</td>\n",
       "    </tr>\n",
       "    <tr>\n",
       "      <th>50%</th>\n",
       "      <td>2023-05-26 05:15:54</td>\n",
       "      <td>0.000000</td>\n",
       "      <td>10.000000</td>\n",
       "      <td>0.000000</td>\n",
       "      <td>2023-05-26 00:00:00</td>\n",
       "    </tr>\n",
       "    <tr>\n",
       "      <th>75%</th>\n",
       "      <td>2023-05-29 23:47:15</td>\n",
       "      <td>13.000000</td>\n",
       "      <td>16.000000</td>\n",
       "      <td>1.000000</td>\n",
       "      <td>2023-05-29 00:00:00</td>\n",
       "    </tr>\n",
       "    <tr>\n",
       "      <th>max</th>\n",
       "      <td>2023-05-31 23:58:59</td>\n",
       "      <td>53.000000</td>\n",
       "      <td>21.000000</td>\n",
       "      <td>1.000000</td>\n",
       "      <td>2023-05-31 00:00:00</td>\n",
       "    </tr>\n",
       "    <tr>\n",
       "      <th>std</th>\n",
       "      <td>NaN</td>\n",
       "      <td>11.182955</td>\n",
       "      <td>6.321586</td>\n",
       "      <td>0.463665</td>\n",
       "      <td>NaN</td>\n",
       "    </tr>\n",
       "  </tbody>\n",
       "</table>\n",
       "</div>"
      ],
      "text/plain": [
       "                           timestamp   sum_payment    id_product   \n",
       "count                          15257  15257.000000  15257.000000  \\\n",
       "mean   2023-05-24 06:47:00.704922368      6.578554     10.450678   \n",
       "min              2023-05-01 01:43:46      0.000000      0.000000   \n",
       "25%              2023-05-20 04:59:28      0.000000      5.000000   \n",
       "50%              2023-05-26 05:15:54      0.000000     10.000000   \n",
       "75%              2023-05-29 23:47:15     13.000000     16.000000   \n",
       "max              2023-05-31 23:58:59     53.000000     21.000000   \n",
       "std                              NaN     11.182955      6.321586   \n",
       "\n",
       "             is_pay                           date  \n",
       "count  15257.000000                          15257  \n",
       "mean       0.312840  2023-05-23 18:25:13.429901056  \n",
       "min        0.000000            2023-05-01 00:00:00  \n",
       "25%        0.000000            2023-05-20 00:00:00  \n",
       "50%        0.000000            2023-05-26 00:00:00  \n",
       "75%        1.000000            2023-05-29 00:00:00  \n",
       "max        1.000000            2023-05-31 00:00:00  \n",
       "std        0.463665                            NaN  "
      ]
     },
     "execution_count": 13,
     "metadata": {},
     "output_type": "execute_result"
    }
   ],
   "source": [
    "group_b.describe()"
   ]
  },
  {
   "cell_type": "code",
   "execution_count": 15,
   "id": "d46c4e82",
   "metadata": {},
   "outputs": [],
   "source": [
    "final_date = pd.to_datetime('2023-05-31', format='%Y-%m-%d')"
   ]
  },
  {
   "cell_type": "code",
   "execution_count": 19,
   "id": "9667d0d9",
   "metadata": {},
   "outputs": [],
   "source": [
    "lower_bound = group_nan.sum_payment.quantile(0.05)\n",
    "upper_bound = group_nan.sum_payment.quantile(0.95)\n",
    "emission_df = group_nan[~((group_nan.sum_payment < lower_bound) & (group_nan.sum_payment > upper_bound))]"
   ]
  },
  {
   "cell_type": "code",
   "execution_count": 26,
   "id": "e3f74d83",
   "metadata": {},
   "outputs": [],
   "source": [
    "group_nan.loc[group_nan.index.isin(emission_df.index), \"sum_payment\"] = group_nan.loc[group_nan.index.isin(emission_df.index), \"sum_payment\"].apply(lambda x: min(x, upper_bound))"
   ]
  },
  {
   "cell_type": "code",
   "execution_count": 31,
   "id": "42fc84ba",
   "metadata": {},
   "outputs": [
    {
     "data": {
      "image/png": "[encoded data removed]",
      "text/plain": [
       "<Figure size 432x288 with 1 Axes>"
      ]
     },
     "metadata": {
      "needs_background": "light"
     },
     "output_type": "display_data"
    }
   ],
   "source": [
    "group_nan['sum_payment'].plot.hist();"
   ]
  },
  {
   "cell_type": "code",
   "execution_count": 29,
   "id": "dec510bc",
   "metadata": {},
   "outputs": [
    {
     "data": {
      "image/png": "[encoded data removed]",
      "text/plain": [
       "<Figure size 432x288 with 1 Axes>"
      ]
     },
     "metadata": {
      "needs_background": "light"
     },
     "output_type": "display_data"
    }
   ],
   "source": [
    "group_nan['sum_payment'].plot.box()\n",
    "plt.title('outliers');"
   ]
  },
  {
   "cell_type": "code",
   "execution_count": 37,
   "id": "a7ff0a0b",
   "metadata": {},
   "outputs": [],
   "source": [
    "def get_total_payments(data_frame, ending_date):\n",
    "    filtered_data = (\n",
    "        data_frame.groupby(\"id_user\").timestamp.min().reset_index(name=\"min_timestamp\")\n",
    "    )\n",
    "\n",
    "    filtered_data[\"max_timestamp\"] = filtered_data[\"min_timestamp\"] + timedelta(seconds=7 * 24 * 60 * 60)\n",
    "\n",
    "    merged_data = data_frame.merge(filtered_data, on=\"id_user\")\n",
    "\n",
    "    filtered_data = merged_data[\n",
    "        (merged_data[\"timestamp\"] <= merged_data[\"max_timestamp\"])\n",
    "        & (merged_data[\"timestamp\"] >= merged_data[\"min_timestamp\"])\n",
    "    ]\n",
    "    \n",
    "    filtered_data = filtered_data[\n",
    "        pd.to_datetime(filtered_data[\"max_timestamp\"]).dt.normalize() <= ending_date\n",
    "    ]\n",
    "\n",
    "    total_payments = filtered_data.groupby(\"id_user\").sum_payment.sum().tolist()\n",
    "    return total_payments\n"
   ]
  },
  {
   "cell_type": "code",
   "execution_count": 38,
   "id": "d9bd0424",
   "metadata": {},
   "outputs": [],
   "source": [
    "\n",
    "total_payments = get_total_payments(group_nan, ending_date=pd.to_datetime('2023-04-30', format='%Y-%m-%d'))\n",
    "\n",
    "sigma_1 = np.std(total_payments)\n",
    "sigma_2 = np.std(total_payments)\n",
    "effect = 0.1 *  np.mean(total_payments)\n",
    "\n",
    "mean_base = np.mean(total_payments)\n",
    "\n",
    "k = group_a['id_user'].nunique() / group_b['id_user'].nunique()"
   ]
  },
  {
   "cell_type": "code",
   "execution_count": 43,
   "id": "5751be88",
   "metadata": {},
   "outputs": [
    {
     "data": {
      "text/plain": [
       "3554"
      ]
     },
     "execution_count": 43,
     "metadata": {},
     "output_type": "execute_result"
    }
   ],
   "source": [
    "target_n = 0.5 * duration(k, effect, sigma_1, sigma_2, alpha=0.05, beta=0.2) \n",
    "int(target_n)"
   ]
  },
  {
   "attachments": {},
   "cell_type": "markdown",
   "id": "3dce644d",
   "metadata": {},
   "source": [
    "#### Фильтрация данных"
   ]
  },
  {
   "cell_type": "code",
   "execution_count": 44,
   "id": "754e3acd",
   "metadata": {},
   "outputs": [],
   "source": [
    "def find_filtering_date(data_frame, target_count):\n",
    "    start_date = pd.to_datetime(\"2023-05-01\", format=\"%Y-%m-%d\") + timedelta(days=7)\n",
    "\n",
    "    while start_date != final_date:\n",
    "        temp_df = data_frame[data_frame[\"date\"] <= start_date]\n",
    "        \n",
    "        filtered_data = (\n",
    "            temp_df.groupby(\"id_user\").timestamp.min().reset_index(name=\"min_timestamp\")\n",
    "        )\n",
    "\n",
    "        filtered_data[\"max_timestamp\"] = filtered_data[\"min_timestamp\"] + timedelta(seconds=7 * 24 * 60 * 60)\n",
    "\n",
    "        filtered_data = filtered_data[pd.to_datetime(filtered_data[\"max_timestamp\"]).dt.normalize() <= start_date]\n",
    "\n",
    "        if filtered_data[\"id_user\"].nunique() >= target_count:\n",
    "            return start_date\n",
    "\n",
    "        start_date = start_date + timedelta(days=1)\n",
    "\n",
    "    return start_date"
   ]
  },
  {
   "cell_type": "code",
   "execution_count": 45,
   "id": "42396b89",
   "metadata": {},
   "outputs": [],
   "source": [
    "a_date = find_filtering_date(group_a, target_n)\n",
    "b_date = find_filtering_date(group_b, target_n)\n",
    "\n",
    "if a_date == b_date:\n",
    "    final_date = a_date\n",
    "else:\n",
    "    final_date = max(a_date, b_date)"
   ]
  },
  {
   "cell_type": "code",
   "execution_count": 46,
   "id": "e98052cf",
   "metadata": {},
   "outputs": [],
   "source": [
    "group_a =  group_a[group_a['date'] <= final_date]\n",
    "group_b =  group_b[group_b['date'] <= final_date]"
   ]
  },
  {
   "attachments": {},
   "cell_type": "markdown",
   "id": "b8ddc05d",
   "metadata": {},
   "source": [
    "#### A-группа"
   ]
  },
  {
   "cell_type": "code",
   "execution_count": 48,
   "id": "b4919a9f",
   "metadata": {},
   "outputs": [],
   "source": [
    "lower_bound = group_a.sum_payment.quantile(q=0.05)\n",
    "upper_bound = group_a.sum_payment.quantile(q=0.95)\n",
    "emission_df = group_a[~((group_a.sum_payment < lower_bound) & (group_a.sum_payment > upper_bound))]"
   ]
  },
  {
   "cell_type": "code",
   "execution_count": 49,
   "id": "49451aa8",
   "metadata": {},
   "outputs": [],
   "source": [
    "group_a.loc[group_a.index.isin(emission_df.index), \"sum_payment\"] = group_a.loc[group_a.index.isin(emission_df.index), \"sum_payment\"].apply(lambda x: min(x, upper_bound))"
   ]
  },
  {
   "cell_type": "code",
   "execution_count": 52,
   "id": "8c00aca7",
   "metadata": {},
   "outputs": [
    {
     "data": {
      "image/png": "[encoded data removed]",
      "text/plain": [
       "<Figure size 432x288 with 1 Axes>"
      ]
     },
     "metadata": {},
     "output_type": "display_data"
    }
   ],
   "source": [
    "group_a['sum_payment'].plot.hist();"
   ]
  },
  {
   "cell_type": "code",
   "execution_count": 51,
   "id": "b0224de6",
   "metadata": {},
   "outputs": [
    {
     "data": {
      "image/png": "[encoded data removed]",
      "text/plain": [
       "<Figure size 432x288 with 1 Axes>"
      ]
     },
     "metadata": {},
     "output_type": "display_data"
    }
   ],
   "source": [
    "group_a['sum_payment'].plot.box();"
   ]
  },
  {
   "attachments": {},
   "cell_type": "markdown",
   "id": "a933f91f",
   "metadata": {},
   "source": [
    "#### B-группа"
   ]
  },
  {
   "cell_type": "code",
   "execution_count": 56,
   "id": "6fca5a0b",
   "metadata": {},
   "outputs": [],
   "source": [
    "lower_bound = group_b.sum_payment.quantile(q=0.97)\n",
    "upper_bound = group_b.sum_payment.quantile(q=0.03)\n",
    "emission_df = group_b[~((group_b.sum_payment < lower_bound) & (group_b.sum_payment > upper_bound))]"
   ]
  },
  {
   "cell_type": "code",
   "execution_count": 57,
   "id": "971abce1",
   "metadata": {},
   "outputs": [],
   "source": [
    "group_b.loc[group_b.index.isin(emission_df.index), \"sum_payment\"] = group_b.loc[group_b.index.isin(emission_df.index), \"sum_payment\"].apply(lambda x: min(x, upper_bound))"
   ]
  },
  {
   "cell_type": "code",
   "execution_count": 60,
   "id": "b92d844b",
   "metadata": {},
   "outputs": [
    {
     "data": {
      "image/png": "[encoded data removed]",
      "text/plain": [
       "<Figure size 432x288 with 1 Axes>"
      ]
     },
     "metadata": {},
     "output_type": "display_data"
    }
   ],
   "source": [
    "group_b.sum_payment.plot.hist();"
   ]
  },
  {
   "cell_type": "code",
   "execution_count": 59,
   "id": "214a798e",
   "metadata": {},
   "outputs": [
    {
     "data": {
      "image/png": "[encoded data removed]",
      "text/plain": [
       "<Figure size 432x288 with 1 Axes>"
      ]
     },
     "metadata": {},
     "output_type": "display_data"
    }
   ],
   "source": [
    "group_b.sum_payment.plot.box();"
   ]
  },
  {
   "attachments": {},
   "cell_type": "markdown",
   "id": "a388c201",
   "metadata": {},
   "source": [
    "# Эксперимент"
   ]
  },
  {
   "cell_type": "code",
   "execution_count": 62,
   "id": "acd5f42a",
   "metadata": {},
   "outputs": [],
   "source": [
    "d = pd.to_datetime(\"2023-05-01\", format=\"%Y-%m-%d\") + timedelta(days=7)\n",
    "\n",
    "res = pd.DataFrame(\n",
    "    columns=[\"metric_a\", \"metric_b\", \"effect\", \"t\", \"p_value\"],\n",
    "    index=pd.date_range(d, final_date),\n",
    ")\n",
    "\n",
    "for date in res.index:\n",
    "    tmp_a = get_total_payments(group_a[group_a[\"date\"] <= date], ending_date=date)\n",
    "    tmp_b = get_total_payments(group_b[group_b[\"date\"] <= date], ending_date=date)\n",
    "\n",
    "    effect = np.mean(tmp_b) - np.mean(tmp_a)\n",
    "\n",
    "    results = sps.ttest_ind(tmp_a, tmp_b, equal_var=abs(np.var(tmp_b) - np.var(tmp_a)) <= 0.1)\n",
    "    \n",
    "    t_value, p_value = results.statistic, results.pvalue\n",
    "    res.loc[date] = np.mean(tmp_a), np.mean(tmp_b), effect, t_value, p_value"
   ]
  },
  {
   "cell_type": "code",
   "execution_count": 64,
   "id": "e3a4f1bd",
   "metadata": {},
   "outputs": [
    {
     "data": {
      "text/html": [
       "<div>\n",
       "<style scoped>\n",
       "    .dataframe tbody tr th:only-of-type {\n",
       "        vertical-align: middle;\n",
       "    }\n",
       "\n",
       "    .dataframe tbody tr th {\n",
       "        vertical-align: top;\n",
       "    }\n",
       "\n",
       "    .dataframe thead th {\n",
       "        text-align: right;\n",
       "    }\n",
       "</style>\n",
       "<table border=\"1\" class=\"dataframe\">\n",
       "  <thead>\n",
       "    <tr style=\"text-align: right;\">\n",
       "      <th></th>\n",
       "      <th>metric_a</th>\n",
       "      <th>metric_b</th>\n",
       "      <th>effect</th>\n",
       "      <th>t</th>\n",
       "      <th>p_value</th>\n",
       "    </tr>\n",
       "  </thead>\n",
       "  <tbody>\n",
       "    <tr>\n",
       "      <th>2023-05-27</th>\n",
       "      <td>10.621577</td>\n",
       "      <td>9.618666</td>\n",
       "      <td>-1.002911</td>\n",
       "      <td>2.308947</td>\n",
       "      <td>0.020989</td>\n",
       "    </tr>\n",
       "    <tr>\n",
       "      <th>2023-05-28</th>\n",
       "      <td>10.599548</td>\n",
       "      <td>9.706422</td>\n",
       "      <td>-0.893125</td>\n",
       "      <td>2.155271</td>\n",
       "      <td>0.031186</td>\n",
       "    </tr>\n",
       "    <tr>\n",
       "      <th>2023-05-29</th>\n",
       "      <td>10.765862</td>\n",
       "      <td>9.874657</td>\n",
       "      <td>-0.891205</td>\n",
       "      <td>2.213024</td>\n",
       "      <td>0.026935</td>\n",
       "    </tr>\n",
       "    <tr>\n",
       "      <th>2023-05-30</th>\n",
       "      <td>11.027027</td>\n",
       "      <td>9.975633</td>\n",
       "      <td>-1.051394</td>\n",
       "      <td>2.675966</td>\n",
       "      <td>0.007471</td>\n",
       "    </tr>\n",
       "    <tr>\n",
       "      <th>2023-05-31</th>\n",
       "      <td>11.281241</td>\n",
       "      <td>10.191031</td>\n",
       "      <td>-1.09021</td>\n",
       "      <td>2.813325</td>\n",
       "      <td>0.004917</td>\n",
       "    </tr>\n",
       "  </tbody>\n",
       "</table>\n",
       "</div>"
      ],
      "text/plain": [
       "             metric_a   metric_b    effect         t   p_value\n",
       "2023-05-27  10.621577   9.618666 -1.002911  2.308947  0.020989\n",
       "2023-05-28  10.599548   9.706422 -0.893125  2.155271  0.031186\n",
       "2023-05-29  10.765862   9.874657 -0.891205  2.213024  0.026935\n",
       "2023-05-30  11.027027   9.975633 -1.051394  2.675966  0.007471\n",
       "2023-05-31  11.281241  10.191031  -1.09021  2.813325  0.004917"
      ]
     },
     "execution_count": 64,
     "metadata": {},
     "output_type": "execute_result"
    }
   ],
   "source": [
    "res.tail()"
   ]
  },
  {
   "cell_type": "code",
   "execution_count": 70,
   "id": "b3d7c605",
   "metadata": {},
   "outputs": [
    {
     "data": {
      "text/plain": [
       "True"
      ]
     },
     "execution_count": 70,
     "metadata": {},
     "output_type": "execute_result"
    }
   ],
   "source": [
    "res['p_value'].iloc[-1] <= alpha"
   ]
  },
  {
   "attachments": {},
   "cell_type": "markdown",
   "id": "0f23ae9f",
   "metadata": {},
   "source": [
    "### Отвергаем нулевую гипотезу, эффект есть"
   ]
  }
 ],
 "metadata": {
  "kernelspec": {
   "display_name": "Python 3 (ipykernel)",
   "language": "python",
   "name": "python3"
  },
  "language_info": {
   "codemirror_mode": {
    "name": "ipython",
    "version": 3
   },
   "file_extension": ".py",
   "mimetype": "text/x-python",
   "name": "python",
   "nbconvert_exporter": "python",
   "pygments_lexer": "ipython3",
   "version": "3.9.12"
  }
 },
 "nbformat": 4,
 "nbformat_minor": 5
}
